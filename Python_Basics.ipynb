{
  "nbformat": 4,
  "nbformat_minor": 0,
  "metadata": {
    "colab": {
      "provenance": []
    },
    "kernelspec": {
      "name": "python3",
      "display_name": "Python 3"
    },
    "language_info": {
      "name": "python"
    }
  },
  "cells": [
    {
      "cell_type": "markdown",
      "source": [
        "# Python Basics"
      ],
      "metadata": {
        "id": "VJLtYK4kFMwe"
      }
    },
    {
      "cell_type": "markdown",
      "source": [
        "1. What is Python, and why is it popular?\n",
        "   - Python is a popular programming language because it's easy to learn, versatile, and widely used. It has a clean and simple syntax that looks like plain English, making it great for beginners. Python is used for many things, including:\n",
        "\n",
        "    - Web Development - Building websites (e.g., using Django, Flask).\n",
        "\n",
        "    - Data Science - Analyzing and visualizing data.\n",
        "\n",
        "    - Artificial Intelligence (AI) - Machine learning and automation.\n",
        "\n",
        "    - Automation - Writing scripts to save time on repetitive tasks.\n",
        "\n",
        "    - Game Development - Making simple games.\n",
        "\n",
        " - It’s popular because it’s easy to use, works on different platforms, and has many ready-to-use tools called libraries.\n",
        "\n",
        "2.  What is an interpreter in Python?\n",
        "    - A Python interpreter is a program that runs Python code. It reads your code line by line, understands it, and gives you the result immediately.  \n",
        "\n",
        "3. What are pre-defined keywords in Python?\n",
        "   - Pre-defined keywords in Python are special words that Python already knows. You can’t use them as names for your variables or functions because they have specific meanings.\n",
        "   \n",
        "    Examples of Keywords:\n",
        "\n",
        "     - Control:- if, else, for, while\n",
        "\n",
        "    - Logic:- and, or, not\n",
        "\n",
        "    - Values:- True, False, None\n",
        "\n",
        "    - Functions-: def, return\n",
        "\n",
        "    - Classes:- class\n",
        "\n",
        "    -  Error Handling:- try, except, finally  \n",
        "\n",
        "4. Can keywords be used as variable names?\n",
        "   - No, keywords cannot be used as variable names in Python because they are special words that Python reserves for its own instructions. These keywords are used to define the structure and behavior of your code, like loops, conditions, and functions. If you try to use a keyword as a variable name, Python will throw an error because it won’t understand your code correctly.\n",
        "\n",
        "5. What is mutability in python?\n",
        "\n",
        "   - mutability refers to the ability of an object to be modified after it is created. Depending on their type, objects in Python are classified as either mutable or immutable:\n",
        "\n",
        "     Mutable Objects:-Mutable objects can be changed after they are created. This means that their contents can be updated without creating a new object in memory.\n",
        "     \n",
        "     e.g.- Elements of a list, keys and values in a dictionary\n",
        "\n",
        "6. Why are lists mutable, but tuples are immutable?\n",
        "\n",
        " - Lists are mutable because they are designed to be flexible and allow changes like adding, removing, or modifying elements directly, which makes them useful for dynamic operations. Tuples, on the other hand, are immutable because they are meant to represent fixed collections of items, ensuring data consistency and allowing them to be used as keys in dictionaries or elements in sets. This distinction aligns with their intended purposes: lists for changeable data and tuples for constant, reliable data.\n",
        "\n",
        "7. What is the difference between “==” and “is” operators in Python?\n",
        "\n",
        " - In Python, the == operator checks value equality, meaning it compares whether the values of two objects are the same, while the is operator checks identity equality, meaning it determines whether two references point to the exact same object in memory.\n",
        "\n",
        "8. What are logical operators in Python?\n",
        "\n",
        " - Logical operators in Python are used to combine conditional statements and evaluate their truth values.\n",
        "\n",
        "     The three logical operators are:\n",
        "      - AND :- Returns True if both operands are True; otherwise, it returns False.\n",
        "      - OR :- Returns True if at least one operand is True; otherwise, it returns False.\n",
        "      -NOT :- Reverses the truth value of the operand.\n",
        "\n",
        "9. What is type casting in Python?\n",
        " - Type casting in Python refers to converting a value from one data type to another. Python provides built-in functions to perform type casting, which can be either implicit or explicit.\n",
        "\n",
        "10. What is the difference between implicit and explicit type casting?\n",
        "  - In Python, implicit type casting happens automatically when Python changes one type of data to another to make things work smoothly, like turning an integer into a float during math. e.g., 5 + 2.5 becomes 7.5, where 5 is automatically changed to a float.\n",
        "  - Explicit type casting is when you tell Python to change a data type using functions like int(), float(), or str(). For example, if you have a string \"10\" and want to add it to a number, you can use int(\"10\") + 5, which gives 15.\n",
        "  - Implicit is automatic and easy, while explicit gives you control but needs extra care.\n",
        "\n",
        "11. What is the purpose of conditional statements in Python?\n",
        " - The purpose of conditional statements in Python is to enable decision-making in a program by allowing the code to execute different actions based on whether a specific condition is true or false. They help control the flow of execution, making the program dynamic and adaptable to different inputs or scenarios. Conditional statements are essential for building logical, interactive, and responsive programs.\n",
        "  \n",
        "      Common Conditional Statements in Python:\n",
        "      - if: Executes a block of code if a condition is true.\n",
        "      - elif: Adds additional conditions to check if the previous ones are false.\n",
        "      - else: Executes a block of code if all previous conditions are false.\n",
        "\n",
        "12. How does the elif statement work?\n",
        " - The elif statement in Python is shortform of \"else if\" and is used to check more than one condition in a program. It comes after an if statement and allows the program to test another condition if the first one is false. If the elif condition is true, its block of code runs. If none of the conditions are true, we can use an else block for a final action.   \n",
        "\n",
        "13. What is the difference between for and while loops?\n",
        " - The main difference between a for loop and a while loop is how they work and when to use them.\n",
        " - A for loop is best when you know how many times you want to repeat something or when you're going through items in a list, string, or range. It automatically stops when it finishes the items.\n",
        " - A while loop is better when you don’t know how many times to repeat but want to keep going as long as a condition is true. However, you need to be careful with a while loop because it can go on forever if you don’t update the condition properly.\n",
        "\n",
        "14. Describe a scenario where a while loop is more suitable than a for loop.\n",
        "  - A simple example where a while loop is better is when you want to keep asking a question until you get a specific answer. For instance, if you’re making a game and want to ask the player, “Do you want to play again?” until they say “no,” a while loop works well. You don’t know how many times the player will say “yes,” so the loop keeps running as long as the answer is “yes” and stops when they say “no.”\n",
        "\n",
        "\n",
        "\n",
        "\n",
        "\n",
        "\n",
        "\n"
      ],
      "metadata": {
        "id": "O5kNp--QF8YW"
      }
    },
    {
      "cell_type": "markdown",
      "source": [
        "# **Practical Questions**"
      ],
      "metadata": {
        "id": "y13bPLoNMGy9"
      }
    },
    {
      "cell_type": "code",
      "source": [
        "#1. Write a Python program to print \"Hello, World!\"\n",
        "print(\"Hello, World!\")"
      ],
      "metadata": {
        "colab": {
          "base_uri": "https://localhost:8080/"
        },
        "id": "91GunHMoOIJ2",
        "outputId": "7e86d745-c9d2-4aa6-d57a-5bb405b8de82"
      },
      "execution_count": 1,
      "outputs": [
        {
          "output_type": "stream",
          "name": "stdout",
          "text": [
            "Hello, World!\n"
          ]
        }
      ]
    },
    {
      "cell_type": "code",
      "source": [
        "#2. Write a Python program that displays your name and age.\n",
        "print(\"Name- Rohit Kumar\")\n",
        "print(\"Age- 27\")"
      ],
      "metadata": {
        "colab": {
          "base_uri": "https://localhost:8080/"
        },
        "id": "gh9HQGTPRBa2",
        "outputId": "5b78c4bb-d6f9-491b-b010-8167a306c571"
      },
      "execution_count": null,
      "outputs": [
        {
          "output_type": "stream",
          "name": "stdout",
          "text": [
            "Name- Rohit Kumar\n",
            "Age- 27\n"
          ]
        }
      ]
    },
    {
      "cell_type": "code",
      "source": [
        "#3. Write code to print all the pre-defined keywords in Python using the keyword library.\n",
        "help('keywords')"
      ],
      "metadata": {
        "colab": {
          "base_uri": "https://localhost:8080/"
        },
        "id": "oNVr-aW6RwWz",
        "outputId": "fd05f63b-5640-427b-fa5c-9099a2076752"
      },
      "execution_count": null,
      "outputs": [
        {
          "output_type": "stream",
          "name": "stdout",
          "text": [
            "\n",
            "Here is a list of the Python keywords.  Enter any keyword to get more help.\n",
            "\n",
            "False               class               from                or\n",
            "None                continue            global              pass\n",
            "True                def                 if                  raise\n",
            "and                 del                 import              return\n",
            "as                  elif                in                  try\n",
            "assert              else                is                  while\n",
            "async               except              lambda              with\n",
            "await               finally             nonlocal            yield\n",
            "break               for                 not                 \n",
            "\n"
          ]
        }
      ]
    },
    {
      "cell_type": "code",
      "source": [
        "#4. Write a program that checks if a given word is a Python keyword.\n",
        "import keyword\n",
        "a= input(\"Enter a word \")\n",
        "if keyword.iskeyword(a):\n",
        "  print(\"its a python keyword.\")\n",
        "else:\n",
        "  print(\"its not a python keyword.\")\n"
      ],
      "metadata": {
        "id": "52ixIKOOSTb1",
        "colab": {
          "base_uri": "https://localhost:8080/"
        },
        "outputId": "c01350ee-f3f4-4aa8-fb67-93fc3c3e6311"
      },
      "execution_count": null,
      "outputs": [
        {
          "output_type": "stream",
          "name": "stdout",
          "text": [
            "Enter a word hello\n",
            "its not a python keyword.\n"
          ]
        }
      ]
    },
    {
      "cell_type": "code",
      "source": [
        "#5. Create a list and tuple in Python, and demonstrate how attempting to change an element works differently for each.\n",
        "\n",
        "my_list = [1, 2, 3, 4, 5, 6, 7]\n",
        "my_tuple = (1, 2, 3, 4, 5, 6, 7)\n",
        "print(\"list:\", my_list)\n",
        "my_list[5] = 99\n",
        "print(\"Modified list:\", my_list)\n",
        "print(\"tuple:\", my_tuple)\n",
        "try:\n",
        "    my_tuple[5] = 99\n",
        "except TypeError as e:\n",
        "    print(\"Error:\", e)\n"
      ],
      "metadata": {
        "id": "TAtQlG1DSxG0",
        "colab": {
          "base_uri": "https://localhost:8080/"
        },
        "outputId": "bbf6fc3d-c67c-4e1d-8984-167c1c5ebf4d"
      },
      "execution_count": null,
      "outputs": [
        {
          "output_type": "stream",
          "name": "stdout",
          "text": [
            "list: [1, 2, 3, 4, 5, 6, 7]\n",
            "Modified list: [1, 2, 3, 4, 5, 99, 7]\n",
            "tuple: (1, 2, 3, 4, 5, 6, 7)\n",
            "Error: 'tuple' object does not support item assignment\n"
          ]
        }
      ]
    },
    {
      "cell_type": "code",
      "source": [
        "#6. Write a function to demonstrate the behavior of mutable and immutable arguments.\n",
        "def demonstrate_mutable_immutable(num, num_list):\n",
        "\n",
        "    num += 5\n",
        "    print(f\"Inside function (immutable): {num}\")\n",
        "    num_list.append(5)\n",
        "    print(f\"Inside function (mutable): {num_list}\")\n",
        "\n",
        "x = 10\n",
        "y = [1, 2, 3]\n",
        "\n",
        "print(f\"Before function call (immutable): {x}\")\n",
        "print(f\"Before function call (mutable): {y}\")\n",
        "\n",
        "demonstrate_mutable_immutable(x, y)\n",
        "\n",
        "print(f\"After function call (immutable): {x}\")\n",
        "print(f\"After function call (mutable): {y}\")\n",
        "\n"
      ],
      "metadata": {
        "id": "zYNKok1tnlDS",
        "colab": {
          "base_uri": "https://localhost:8080/"
        },
        "outputId": "1aeb1709-16fe-4dba-d077-6f01bf41aa89"
      },
      "execution_count": null,
      "outputs": [
        {
          "output_type": "stream",
          "name": "stdout",
          "text": [
            "Before function call (immutable): 10\n",
            "Before function call (mutable): [1, 2, 3]\n",
            "Inside function (immutable): 15\n",
            "Inside function (mutable): [1, 2, 3, 5]\n",
            "After function call (immutable): 10\n",
            "After function call (mutable): [1, 2, 3, 5]\n"
          ]
        }
      ]
    },
    {
      "cell_type": "code",
      "source": [
        "#7. Write a function to demonstrate the behavior of mutable and immutable arguments.\n",
        "def demonstrate_mutable_immutable(num, num_list):\n",
        "\n",
        "    num += 5\n",
        "    print(f\"Inside function (immutable): {num}\")\n",
        "    num_list.append(5)\n",
        "    print(f\"Inside function (mutable): {num_list}\")\n",
        "\n",
        "x = 10\n",
        "y = [1, 2, 3]\n",
        "\n",
        "print(f\"Before function call (immutable): {x}\")\n",
        "print(f\"Before function call (mutable): {y}\")\n",
        "\n",
        "demonstrate_mutable_immutable(x, y)\n",
        "\n",
        "print(f\"After function call (immutable): {x}\")\n",
        "print(f\"After function call (mutable): {y}\")\n"
      ],
      "metadata": {
        "id": "asT3nbSFlIdb",
        "colab": {
          "base_uri": "https://localhost:8080/"
        },
        "outputId": "d6c8f185-f9b3-4689-ec77-2e31d98dcb4f"
      },
      "execution_count": null,
      "outputs": [
        {
          "output_type": "stream",
          "name": "stdout",
          "text": [
            "Before function call (immutable): 10\n",
            "Before function call (mutable): [1, 2, 3]\n",
            "Inside function (immutable): 15\n",
            "Inside function (mutable): [1, 2, 3, 5]\n",
            "After function call (immutable): 10\n",
            "After function call (mutable): [1, 2, 3, 5]\n"
          ]
        }
      ]
    },
    {
      "cell_type": "code",
      "source": [
        "#8. Write a program to demonstrate the use of logical operators.\n",
        "x = int(input(\"Enter a number: \"))\n",
        "y = int(input(\"Enter another number: \"))\n",
        "print(\"Both numbers are positive:\", x > 0 and y > 0) # AND operator\n",
        "print(\"At least one number is positive:\", x > 0 or y > 0) # OR operator\n",
        "print(\"The first number is not positive:\", not (x > 0)) # NOT operator"
      ],
      "metadata": {
        "id": "5FnigesPlIHb",
        "colab": {
          "base_uri": "https://localhost:8080/"
        },
        "outputId": "45502a35-a41e-47a5-9a7c-f4431a684b45"
      },
      "execution_count": null,
      "outputs": [
        {
          "output_type": "stream",
          "name": "stdout",
          "text": [
            "Enter a number: 5\n",
            "Enter another number: 7\n",
            "Both numbers are positive: True\n",
            "At least one number is positive: True\n",
            "The first number is not positive: False\n"
          ]
        }
      ]
    },
    {
      "cell_type": "code",
      "source": [
        "#9. Write a Python program to convert user input from string to integer, float, and boolean types.\n",
        "A= input(\"enter a value \")\n",
        "print(\"As integer- \", int(A))\n",
        "print(\"As float- \", float(A))\n",
        "print(\"As boolean- \",bool(a))"
      ],
      "metadata": {
        "id": "FJLyQt-rlH4e",
        "colab": {
          "base_uri": "https://localhost:8080/"
        },
        "outputId": "8e0e1f77-3713-489f-f765-cba3492c3a69"
      },
      "execution_count": null,
      "outputs": [
        {
          "output_type": "stream",
          "name": "stdout",
          "text": [
            "enter a value 123\n",
            "As integer-  123\n",
            "As float-  123.0\n",
            "As boolean-  True\n"
          ]
        }
      ]
    },
    {
      "cell_type": "code",
      "source": [
        "#10. Write code to demonstrate type casting with list elements.\n",
        "L= ['1', '2', 3, 4.5]\n",
        "int_list = [int(float(item)) for item in L]\n",
        "float_list = [float(item) for item in L]\n",
        "string_list = [str(item) for item in L]\n",
        "bool_list = [bool(item) for item in L]\n",
        "print(\"Original list:\",L )\n",
        "print(\"As integers:\", int_list)\n",
        "print(\"As floats:\", float_list)\n",
        "print(\"As strings:\", string_list)\n",
        "print(\"As booleans:\", bool_list)\n"
      ],
      "metadata": {
        "id": "65z2z-jWlHoN",
        "colab": {
          "base_uri": "https://localhost:8080/"
        },
        "outputId": "1fc4d750-94a0-46a1-dd0f-4e72a1a81c03"
      },
      "execution_count": null,
      "outputs": [
        {
          "output_type": "stream",
          "name": "stdout",
          "text": [
            "Original list: ['1', '2', 3, 4.5]\n",
            "As integers: [1, 2, 3, 4]\n",
            "As floats: [1.0, 2.0, 3.0, 4.5]\n",
            "As strings: ['1', '2', '3', '4.5']\n",
            "As booleans: [True, True, True, True]\n"
          ]
        }
      ]
    },
    {
      "cell_type": "code",
      "source": [
        "#11. Write a program that checks if a number is positive, negative, or zero.\n",
        "a= int(input(\"Enter a number to check \"))\n",
        "if a>0:\n",
        "  print(\"Number is Positive\")\n",
        "elif a<0:\n",
        "  print(\"Number is Negative\")\n",
        "else:\n",
        "  print(\"Number is 0\")"
      ],
      "metadata": {
        "colab": {
          "base_uri": "https://localhost:8080/"
        },
        "id": "YnmJw8FXlGib",
        "outputId": "add353ac-36d4-4bb7-a15c-b3739164a658"
      },
      "execution_count": null,
      "outputs": [
        {
          "output_type": "stream",
          "name": "stdout",
          "text": [
            "Enter a number to check -5\n",
            "Number is Negative\n"
          ]
        }
      ]
    },
    {
      "cell_type": "code",
      "source": [
        "#12. Write a for loop to print numbers from 1 to 10\n",
        "i=1\n",
        "while i<=10:\n",
        "  print(i)\n",
        "  i=i+1"
      ],
      "metadata": {
        "colab": {
          "base_uri": "https://localhost:8080/"
        },
        "id": "lDXuHmUalYcT",
        "outputId": "30d570df-b099-4007-a293-ebe4265fada1"
      },
      "execution_count": null,
      "outputs": [
        {
          "output_type": "stream",
          "name": "stdout",
          "text": [
            "1\n",
            "2\n",
            "3\n",
            "4\n",
            "5\n",
            "6\n",
            "7\n",
            "8\n",
            "9\n",
            "10\n"
          ]
        }
      ]
    },
    {
      "cell_type": "code",
      "source": [
        "#13. Write a Python program to find the sum of all even numbers between 1 and 50\n",
        "n=0\n",
        "for i in range (2,51,2):\n",
        "  n=n+i\n",
        "else:\n",
        "  print(\"sum of all even numbers between 1 and 50 is \",n)\n"
      ],
      "metadata": {
        "id": "nwRNuiFtl9J3",
        "colab": {
          "base_uri": "https://localhost:8080/"
        },
        "outputId": "d5701b63-224c-4c24-bed1-1cad88c78ae4"
      },
      "execution_count": null,
      "outputs": [
        {
          "output_type": "stream",
          "name": "stdout",
          "text": [
            "sum of all even numbers between 1 and 50 is  650\n"
          ]
        }
      ]
    },
    {
      "cell_type": "code",
      "source": [
        "#14. Write a program to reverse a string using a while loop.\n",
        "st= input(\"enter a string - \")\n",
        "a=\"\"\n",
        "i=len(st)-1\n",
        "while i>=0:\n",
        "  a=a+st[i]\n",
        "  i=i-1\n",
        "print(\"reverse string is - \",a)"
      ],
      "metadata": {
        "id": "-VHxqvdNn54X",
        "colab": {
          "base_uri": "https://localhost:8080/"
        },
        "outputId": "e5c4baaa-35f2-46ba-c146-2547f7624601"
      },
      "execution_count": null,
      "outputs": [
        {
          "output_type": "stream",
          "name": "stdout",
          "text": [
            "enter a string - ABCDE\n",
            "reverse string is -  EDCBA\n"
          ]
        }
      ]
    },
    {
      "cell_type": "code",
      "source": [
        "#15. Write a Python program to calculate the factorial of a number provided by the user using a while loop.\n",
        "a= int(input(\"Enter a number \"))\n",
        "n=1\n",
        "while a>0:\n",
        "  n=n*a\n",
        "  a=a-1\n",
        "else:\n",
        "  print(\"factorial of the number is \", n)"
      ],
      "metadata": {
        "colab": {
          "base_uri": "https://localhost:8080/"
        },
        "id": "RE3W2x3vgmEe",
        "outputId": "1631ad7e-1a83-4a24-db0c-055091b75373"
      },
      "execution_count": null,
      "outputs": [
        {
          "output_type": "stream",
          "name": "stdout",
          "text": [
            "Enter a number 4\n",
            "factorial of the number is  24\n"
          ]
        }
      ]
    }
  ]
}